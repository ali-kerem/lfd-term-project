{
 "cells": [
  {
   "cell_type": "markdown",
   "source": [
    "# Learning from Data Term Project"
   ],
   "metadata": {
    "collapsed": false,
    "pycharm": {
     "name": "#%% md\n"
    }
   }
  },
  {
   "cell_type": "markdown",
   "source": [
    "#### Ali Kerem Bozkurt - 150190003\n",
    "#### Beyza Aydeniz - 150200039\n",
    "#### Elvan Teke - 150190102\n",
    "#### Hasan Fatih Durkaya - 150200074\n",
    "#### Ömer Yıldırım - 150190115"
   ],
   "metadata": {
    "collapsed": false,
    "pycharm": {
     "name": "#%% md\n"
    }
   }
  },
  {
   "cell_type": "code",
   "execution_count": 24,
   "outputs": [],
   "source": [
    "import helpers\n",
    "import random as r\n",
    "from numpy import mean\n",
    "from sklearn.metrics import mean_squared_error as mse\n",
    "from sklearn.linear_model import LinearRegression, Ridge, LassoLars\n",
    "from sklearn.ensemble import GradientBoostingRegressor, AdaBoostRegressor, RandomForestRegressor, VotingRegressor\n",
    "from sklearn.neighbors import KNeighborsRegressor\n",
    "from xgboost import XGBRegressor, XGBRFRegressor"
   ],
   "metadata": {
    "collapsed": false,
    "pycharm": {
     "name": "#%%\n"
    }
   }
  },
  {
   "cell_type": "code",
   "execution_count": 25,
   "outputs": [],
   "source": [
    "# Prepare features and targets\n",
    "train_features = helpers.prepareFeatures(\"train_features.csv\", normalize=False, ohe_children=False, ohe_region=True)\n",
    "train_targets = helpers.prepareTargets(\"train_targets.csv\")\n",
    "\n",
    "test_features = helpers.prepareFeatures(\"test_features.csv\",normalize=False, ohe_children=False, ohe_region=True)\n",
    "\n",
    "# We could normalize the data but since there is not a high imbalance between features, it's not needed.\n",
    "# We could use one hot encoding for children but the models perform worse."
   ],
   "metadata": {
    "collapsed": false,
    "pycharm": {
     "name": "#%%\n"
    }
   }
  },
  {
   "cell_type": "code",
   "execution_count": 26,
   "outputs": [],
   "source": [
    "models = []\n",
    "avg_errors = []\n",
    "\n",
    "# Add models\n",
    "\n",
    "models.append(LinearRegression())\n",
    "models.append(Ridge())\n",
    "models.append(LassoLars())\n",
    "models.append(KNeighborsRegressor())\n",
    "models.append(AdaBoostRegressor())\n",
    "models.append(XGBRegressor())\n",
    "models.append(GradientBoostingRegressor())\n",
    "models.append(RandomForestRegressor())\n",
    "models.append(XGBRFRegressor())"
   ],
   "metadata": {
    "collapsed": false,
    "pycharm": {
     "name": "#%%\n"
    }
   }
  },
  {
   "cell_type": "code",
   "execution_count": 27,
   "outputs": [],
   "source": [
    "# Pick seed\n",
    "r.seed(1)\n",
    "\n",
    "# Apply 5-fold CV on models\n",
    "for model in models:\n",
    "    errors = helpers.CV(features=train_features, targets=train_targets, model=model, n_splits=5)\n",
    "    avg_errors.append(mean(errors))"
   ],
   "metadata": {
    "collapsed": false,
    "pycharm": {
     "name": "#%%\n"
    }
   }
  },
  {
   "cell_type": "code",
   "execution_count": 28,
   "outputs": [
    {
     "name": "stdout",
     "output_type": "stream",
     "text": [
      "   Model                            Average CV Error\n",
      "1. XGBRFRegressor                 : 23700801.101244736\n",
      "2. GradientBoostingRegressor      : 24304636.24704759\n",
      "3. RandomForestRegressor          : 26897806.321399402\n",
      "4. AdaBoostRegressor              : 30490363.558834463\n",
      "5. XGBRegressor                   : 32700412.265734624\n",
      "6. LassoLars                      : 39851568.49743668\n",
      "7. LinearRegression               : 39995269.09365535\n",
      "8. Ridge                          : 40118935.89183073\n",
      "9. KNeighborsRegressor            : 133118638.15185659\n"
     ]
    }
   ],
   "source": [
    "# Sort by average error in ascending order\n",
    "models = [model for _, model in sorted(zip(avg_errors, models))]\n",
    "avg_errors.sort()\n",
    "\n",
    "# Print errors\n",
    "print(\"   {0:32} Average CV Error\".format('Model'))\n",
    "for i in range(len(models)):\n",
    "    print(\"{0}. {1:30} : {2}\".format(i + 1, models[i].__class__.__name__, avg_errors[i]))"
   ],
   "metadata": {
    "collapsed": false,
    "pycharm": {
     "name": "#%%\n"
    }
   }
  },
  {
   "cell_type": "markdown",
   "source": [
    "Top regressors are XGBRFRegressor and GradientBoostingRegressor. We can combine them using VotingRegressor and parameter tune to get the best fit"
   ],
   "metadata": {
    "collapsed": false,
    "pycharm": {
     "name": "#%% md\n"
    }
   }
  },
  {
   "cell_type": "code",
   "execution_count": 30,
   "outputs": [
    {
     "name": "stdout",
     "output_type": "stream",
     "text": [
      "Final model error : 18403159.7504674\n"
     ]
    }
   ],
   "source": [
    "xgbrf = XGBRFRegressor(max_depth=4, n_estimators=200, subsample=0.5, colsample_bynode=1, min_child_weight=7, learning_rate=1)\n",
    "gbr = GradientBoostingRegressor(max_depth=2, n_estimators=70, learning_rate=0.2)\n",
    "\n",
    "final_model = VotingRegressor([('gbr', gbr), ('xgbrf', xgbrf)])\n",
    "\n",
    "final_model.fit(train_features, train_targets)\n",
    "\n",
    "# Print train error\n",
    "error = mse(train_targets, final_model.predict(train_features))\n",
    "print(\"Final model error : {}\".format(error))"
   ],
   "metadata": {
    "collapsed": false,
    "pycharm": {
     "name": "#%%\n"
    }
   }
  },
  {
   "cell_type": "code",
   "execution_count": null,
   "outputs": [],
   "source": [
    "helpers.createSubmission(model=final_model, test_features=test_features, submissionFile=\"submission.csv\")"
   ],
   "metadata": {
    "collapsed": false,
    "pycharm": {
     "name": "#%%\n"
    }
   }
  }
 ],
 "metadata": {
  "kernelspec": {
   "display_name": "Python 3",
   "language": "python",
   "name": "python3"
  },
  "language_info": {
   "codemirror_mode": {
    "name": "ipython",
    "version": 2
   },
   "file_extension": ".py",
   "mimetype": "text/x-python",
   "name": "python",
   "nbconvert_exporter": "python",
   "pygments_lexer": "ipython2",
   "version": "2.7.6"
  }
 },
 "nbformat": 4,
 "nbformat_minor": 0
}